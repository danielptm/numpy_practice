{
 "cells": [
  {
   "cell_type": "code",
   "execution_count": 1,
   "id": "50aa8e49",
   "metadata": {},
   "outputs": [],
   "source": [
    "import numpy as np\n",
    "import matplotlib.pyplot as plt\n",
    "%matplotlib inline"
   ]
  },
  {
   "cell_type": "code",
   "execution_count": 2,
   "id": "8298fe9b",
   "metadata": {},
   "outputs": [
    {
     "data": {
      "image/png": "[encoded data removed]",
      "text/plain": [
       "<Figure size 432x288 with 1 Axes>"
      ]
     },
     "metadata": {
      "needs_background": "light"
     },
     "output_type": "display_data"
    }
   ],
   "source": [
    "# Vectors are like matrices but they have 1 row.\n",
    "# A matrix such as \n",
    "# [1, 2, 3]\n",
    "# [4, 5, 6]\n",
    "# Has to two row vectors\n",
    "# and it has 3 column vectors\n",
    "# Below is how to plot a vector with python/numpy/matplotlib\n",
    "a = np.array([3,4])\n",
    "fig, ax = plt.subplots()\n",
    "\n",
    "x_pos = [0, 0, 2]\n",
    "y_pos = [0, 0, 2]\n",
    "x_direct = [1, 0, 1]\n",
    "y_direct = [1, -1, 0]\n",
    "\n",
    "ax.quiver(x_pos, y_pos, x_direct, y_direct, scale=5)\n",
    "ax.axis([-5, 5, -5, 5])\n",
    "\n",
    "plt.show()"
   ]
  },
  {
   "cell_type": "code",
   "execution_count": 3,
   "id": "504c4bfd",
   "metadata": {},
   "outputs": [
    {
     "name": "stdout",
     "output_type": "stream",
     "text": [
      "manual addition result:\n",
      "[2, 6]\n",
      "numpy addition result:\n",
      "[2 6]\n",
      "manual subtraction result:\n",
      "[-4, -2]\n",
      "numpy subtraction result:\n",
      "[-4 -2]\n"
     ]
    }
   ],
   "source": [
    "# Vector operations\n",
    "\n",
    "# Adding vectors\n",
    "a = np.array([-1, 2])\n",
    "b = np.array([3, 4])\n",
    "\n",
    "nm = []\n",
    "for i in range(len(a)):\n",
    "    nm.append(a[i] + b[i])\n",
    "    \n",
    "#manual result\n",
    "# Just add the items at the corresponding indices.\n",
    "print('manual addition result:')\n",
    "print(nm)\n",
    "\n",
    "# Numpy result\n",
    "print('numpy addition result:')\n",
    "print(a + b)\n",
    "\n",
    "# subtraction works the same way\n",
    "nm = []\n",
    "for i in range(len(a)):\n",
    "    nm.append(a[i] - b[i])\n",
    "    \n",
    "#manual result\n",
    "print('manual subtraction result:')\n",
    "print(nm)\n",
    "\n",
    "# Numpy result\n",
    "print('numpy subtraction result:')\n",
    "print(a - b)\n"
   ]
  },
  {
   "cell_type": "code",
   "execution_count": 4,
   "id": "e6ba95c0",
   "metadata": {},
   "outputs": [
    {
     "name": "stdout",
     "output_type": "stream",
     "text": [
      "numpy dot product result:\n"
     ]
    },
    {
     "data": {
      "text/plain": [
       "5"
      ]
     },
     "execution_count": 4,
     "metadata": {},
     "output_type": "execute_result"
    }
   ],
   "source": [
    "# Vector multiplication or dot product\n",
    "\n",
    "a = np.array([-1, 2])\n",
    "b = np.array([3, 4])\n",
    "\n",
    "# todo: Do this manually\n",
    "\n",
    "#numpy result\n",
    "print(\"numpy dot product result:\")\n",
    "a.dot(b)"
   ]
  },
  {
   "cell_type": "code",
   "execution_count": 5,
   "id": "1c3349cb",
   "metadata": {},
   "outputs": [
    {
     "name": "stdout",
     "output_type": "stream",
     "text": [
      "short example vector length calculation:\n",
      "5.0\n"
     ]
    }
   ],
   "source": [
    "# To find length of vector or how to find the unit vector\n",
    "# https://www.udemy.com/course/linear-algebra-course/learn/lecture/15201860#overview\n",
    "a = np.array([4, -3])\n",
    "\n",
    "# short vector example\n",
    "length = np.sqrt(np.square(a[0]) + np.square(a[1]))\n",
    "print(\"short example vector length calculation:\")\n",
    "print(length)\n",
    "\n",
    "# How to do long vector example?\n"
   ]
  },
  {
   "cell_type": "code",
   "execution_count": null,
   "id": "02b76fae",
   "metadata": {},
   "outputs": [],
   "source": []
  }
 ],
 "metadata": {
  "kernelspec": {
   "display_name": "Python 3 (ipykernel)",
   "language": "python",
   "name": "python3"
  },
  "language_info": {
   "codemirror_mode": {
    "name": "ipython",
    "version": 3
   },
   "file_extension": ".py",
   "mimetype": "text/x-python",
   "name": "python",
   "nbconvert_exporter": "python",
   "pygments_lexer": "ipython3",
   "version": "3.8.2"
  }
 },
 "nbformat": 4,
 "nbformat_minor": 5
}
