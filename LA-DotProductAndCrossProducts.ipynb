{
 "cells": [
  {
   "cell_type": "code",
   "execution_count": 1,
   "id": "6f7c6862",
   "metadata": {},
   "outputs": [],
   "source": [
    "import numpy as np\n",
    "import matplotlib.pyplot as plt\n",
    "%matplotlib inline"
   ]
  },
  {
   "cell_type": "code",
   "execution_count": 10,
   "id": "f6d2c2b3",
   "metadata": {},
   "outputs": [
    {
     "name": "stdout",
     "output_type": "stream",
     "text": [
      "manual solution for dot product\n",
      "32\n",
      "numpy solution for dot product\n",
      "32\n"
     ]
    }
   ],
   "source": [
    "# Dot product: How much \n",
    "# Dot product is: How much vectorA and vectorB point in the same direction.\n",
    "# Dot products can be used to find the length of a vector.\n",
    "# Cross product: How much vectorA and vectorB point in different directions.\n",
    "a = np.array([1, 2, 3])\n",
    "b = np.array([4, 5, 6])\n",
    "\n",
    "#manul solution for dot product\n",
    "result = 0\n",
    "for i,j in zip(a,b):\n",
    "    result += i * j\n",
    "print(\"manual solution for dot product\")\n",
    "print(result)\n",
    "\n",
    "# numpy solution\n",
    "result2 = a.dot(b)\n",
    "print(\"numpy solution for dot product\")\n",
    "print(result2)"
   ]
  },
  {
   "cell_type": "code",
   "execution_count": 13,
   "id": "905711cb",
   "metadata": {},
   "outputs": [
    {
     "name": "stdout",
     "output_type": "stream",
     "text": [
      "length of this vector is: \n",
      "3.7416573867739413\n"
     ]
    }
   ],
   "source": [
    "# How to get the length of a vector\n",
    "\n",
    "b = np.array([-1, 2, 3])\n",
    "\n",
    "result = 0\n",
    "for i in b:\n",
    "    result += i * i\n",
    "result = np.sqrt(result)\n",
    "\n",
    "\n",
    "print(\"length of this vector is: \")\n",
    "print(result)\n",
    "\n"
   ]
  },
  {
   "cell_type": "code",
   "execution_count": 25,
   "id": "65f19a51",
   "metadata": {},
   "outputs": [
    {
     "name": "stdout",
     "output_type": "stream",
     "text": [
      "dot product of both vectors a and b\n",
      "-12\n",
      "length of a\n",
      "3.0\n",
      "length of b\n",
      "4.123105625617661\n",
      "Angle between vectors result: \n",
      "2.8966139904629293\n",
      "convert to degrees from radians:\n",
      "165.9637564941791\n"
     ]
    }
   ],
   "source": [
    "# How to get angule between vectors\n",
    "# If dot product of 2 vectors is 0 then we know the angle is 90 degrees\n",
    "# equation: a.dot(b) = lengthA * lengthB * cos\n",
    "# OR\n",
    "# angleBetween = arccos((dotProductOf2Vectors) / (lengthVectorA * lengthVectorB))\n",
    "\n",
    "\n",
    "a = np.array([0, 3])\n",
    "b = np.array([-1, -4])\n",
    "\n",
    "dot = a.dot(b)\n",
    "print(\"dot product of both vectors a and b\")\n",
    "print(dot)\n",
    "lengthA = np.sqrt(np.square(a[0]) + np.square(a[1]))\n",
    "lengthB = np.sqrt(np.square(b[0]) + np.square(b[1]))\n",
    "\n",
    "print(\"length of a\")\n",
    "print(lengthA)\n",
    "\n",
    "print(\"length of b\")\n",
    "print(lengthB)\n",
    "\n",
    "# plug everything in:\n",
    "# 1 radian = 57.2957795 degrees\n",
    "# result = arccos((dot) / (lengthA * lengthB))\n",
    "degress_unit = 57.2957795\n",
    "print(\"Angle between vectors result: \")\n",
    "result = np.arccos((dot) / (lengthA * lengthB))\n",
    "print(result)\n",
    "print(\"convert to degrees from radians:\")\n",
    "print(result * degress_unit)\n",
    "\n",
    "\n",
    "\n"
   ]
  },
  {
   "cell_type": "code",
   "execution_count": null,
   "id": "6347efb9",
   "metadata": {},
   "outputs": [],
   "source": [
    "# Start here:\n",
    "# https://www.udemy.com/course/linear-algebra-course/learn/lecture/15232252?start=660#content"
   ]
  }
 ],
 "metadata": {
  "kernelspec": {
   "display_name": "Python 3 (ipykernel)",
   "language": "python",
   "name": "python3"
  },
  "language_info": {
   "codemirror_mode": {
    "name": "ipython",
    "version": 3
   },
   "file_extension": ".py",
   "mimetype": "text/x-python",
   "name": "python",
   "nbconvert_exporter": "python",
   "pygments_lexer": "ipython3",
   "version": "3.8.2"
  }
 },
 "nbformat": 4,
 "nbformat_minor": 5
}
