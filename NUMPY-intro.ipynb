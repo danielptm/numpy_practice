{
 "cells": [
  {
   "cell_type": "code",
   "execution_count": 2,
   "id": "388397e9",
   "metadata": {},
   "outputs": [],
   "source": [
    "import numpy as np\n",
    "L = [1, 2, 3]\n",
    "A = np.array([1, 2, 3])\n",
    "\n",
    "# Numpy exists to do Math. This shows how numpy arrays work.\n"
   ]
  },
  {
   "cell_type": "code",
   "execution_count": 11,
   "id": "fb33d0bf",
   "metadata": {},
   "outputs": [
    {
     "data": {
      "text/plain": [
       "array([6, 7, 8])"
      ]
     },
     "execution_count": 11,
     "metadata": {},
     "output_type": "execute_result"
    }
   ],
   "source": [
    "\n",
    "# This is broadcasting however not a normal linear algebra operation\n",
    "A + [5]"
   ]
  },
  {
   "cell_type": "code",
   "execution_count": 13,
   "id": "eea0fd2d",
   "metadata": {},
   "outputs": [
    {
     "data": {
      "text/plain": [
       "array([5, 7, 9])"
      ]
     },
     "execution_count": 13,
     "metadata": {},
     "output_type": "execute_result"
    }
   ],
   "source": [
    "# This is normal vector addition. Vectors (arrays) of the same size must be added otherwise error ocurrs\n",
    "A + np.array([4,5,6])"
   ]
  },
  {
   "cell_type": "code",
   "execution_count": 14,
   "id": "05fccfd2",
   "metadata": {},
   "outputs": [
    {
     "data": {
      "text/plain": [
       "array([2, 4, 6])"
      ]
     },
     "execution_count": 14,
     "metadata": {},
     "output_type": "execute_result"
    }
   ],
   "source": [
    "# This does vector multiplication\n",
    "2 * A"
   ]
  },
  {
   "cell_type": "code",
   "execution_count": 17,
   "id": "2f78d572",
   "metadata": {},
   "outputs": [
    {
     "data": {
      "text/plain": [
       "array([1, 4, 9])"
      ]
     },
     "execution_count": 17,
     "metadata": {},
     "output_type": "execute_result"
    }
   ],
   "source": [
    "# Squaring a vector\n",
    "A**2"
   ]
  },
  {
   "cell_type": "code",
   "execution_count": 20,
   "id": "0eb6735e",
   "metadata": {},
   "outputs": [
    {
     "name": "stdout",
     "output_type": "stream",
     "text": [
      "[1.         1.41421356 1.73205081]\n",
      "[0.         0.69314718 1.09861229]\n",
      "[ 2.71828183  7.3890561  20.08553692]\n"
     ]
    }
   ],
   "source": [
    "# Other operations with numpy\n",
    "print(np.sqrt(A))\n",
    "print(np.log(A))\n",
    "print(np.exp(A))"
   ]
  },
  {
   "cell_type": "code",
   "execution_count": null,
   "id": "805ae7aa",
   "metadata": {},
   "outputs": [],
   "source": []
  }
 ],
 "metadata": {
  "kernelspec": {
   "display_name": "Python 3 (ipykernel)",
   "language": "python",
   "name": "python3"
  },
  "language_info": {
   "codemirror_mode": {
    "name": "ipython",
    "version": 3
   },
   "file_extension": ".py",
   "mimetype": "text/x-python",
   "name": "python",
   "nbconvert_exporter": "python",
   "pygments_lexer": "ipython3",
   "version": "3.8.2"
  }
 },
 "nbformat": 4,
 "nbformat_minor": 5
}
