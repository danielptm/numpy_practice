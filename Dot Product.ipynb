{
 "cells": [
  {
   "cell_type": "code",
   "execution_count": 1,
   "id": "f63caf4e",
   "metadata": {},
   "outputs": [
    {
     "data": {
      "text/plain": [
       "11"
      ]
     },
     "execution_count": 1,
     "metadata": {},
     "output_type": "execute_result"
    }
   ],
   "source": [
    "import numpy as np"
   ]
  },
  {
   "cell_type": "code",
   "execution_count": 3,
   "id": "4751be85",
   "metadata": {},
   "outputs": [
    {
     "data": {
      "text/plain": [
       "11"
      ]
     },
     "execution_count": 3,
     "metadata": {},
     "output_type": "execute_result"
    }
   ],
   "source": [
    "a = np.array([1,2])\n",
    "b = np.array([3,4])\n",
    "\n",
    "dot = 0\n",
    "\n",
    "# zip function returns an iterator for both collections. If the size of each differs the smaller ones size gets used for both.\n",
    "# This is the manual way to calculate the dot product of 2 vectors\n",
    "for e, f in zip(a, b):\n",
    "    dot += e * f\n",
    "dot"
   ]
  },
  {
   "cell_type": "code",
   "execution_count": 5,
   "id": "520133ec",
   "metadata": {},
   "outputs": [
    {
     "data": {
      "text/plain": [
       "array([3, 8])"
      ]
     },
     "execution_count": 5,
     "metadata": {},
     "output_type": "execute_result"
    }
   ],
   "source": [
    "# Performs the 1st step of the dot product. The arithmetic of multiplying a1 * b1 ... n\n",
    "a * b"
   ]
  },
  {
   "cell_type": "code",
   "execution_count": 7,
   "id": "d4c831e2",
   "metadata": {},
   "outputs": [
    {
     "data": {
      "text/plain": [
       "11"
      ]
     },
     "execution_count": 7,
     "metadata": {},
     "output_type": "execute_result"
    }
   ],
   "source": [
    "# Performs the 1st and 2nd steps to produce the dot product\n",
    "np.sum(a * b)"
   ]
  },
  {
   "cell_type": "code",
   "execution_count": 8,
   "id": "27576453",
   "metadata": {},
   "outputs": [
    {
     "data": {
      "text/plain": [
       "11"
      ]
     },
     "execution_count": 8,
     "metadata": {},
     "output_type": "execute_result"
    }
   ],
   "source": [
    "# Shorter way to get the dot product\n",
    "np.dot(a, b)"
   ]
  },
  {
   "cell_type": "code",
   "execution_count": 10,
   "id": "475d6511",
   "metadata": {},
   "outputs": [
    {
     "data": {
      "text/plain": [
       "11"
      ]
     },
     "execution_count": 10,
     "metadata": {},
     "output_type": "execute_result"
    }
   ],
   "source": [
    "# alternative way to get dot product\n",
    "a @ b"
   ]
  },
  {
   "cell_type": "code",
   "execution_count": 19,
   "id": "6be4b7a4",
   "metadata": {},
   "outputs": [
    {
     "name": "stdout",
     "output_type": "stream",
     "text": [
      "magnitude:\n",
      "2.23606797749979\n",
      "norm:\n",
      "2.23606797749979\n"
     ]
    }
   ],
   "source": [
    "# How to calculate the magnitude or the scalar of a vector.\n",
    "amag = np.sqrt((a*a).sum())\n",
    "\n",
    "print(\"magnitude:\")\n",
    "print(amag)\n",
    "\n",
    "# How to calculate the norm (same thing as magnitude)\n",
    "norm = np.linalg.norm(a)\n",
    "\n",
    "print(\"norm:\")\n",
    "print(norm)\n"
   ]
  },
  {
   "cell_type": "code",
   "execution_count": 21,
   "id": "35dc02e0",
   "metadata": {},
   "outputs": [
    {
     "name": "stdout",
     "output_type": "stream",
     "text": [
      "cosangle:\n",
      "0.9838699100999074\n",
      "angle in radians:\n",
      "0.17985349979247847\n"
     ]
    }
   ],
   "source": [
    "# How to get the angle between 2 vectors\n",
    "cosangle = np.dot(a, b) / (np.linalg.norm(a) * np.linalg.norm(b))\n",
    "print(\"cosangle:\")\n",
    "print(cosangle)\n",
    "\n",
    "angle = np.arccos(cosangle)\n",
    "print(\"angle in radians:\")\n",
    "print(angle)"
   ]
  },
  {
   "cell_type": "code",
   "execution_count": null,
   "id": "4dc9a32f",
   "metadata": {},
   "outputs": [],
   "source": []
  }
 ],
 "metadata": {
  "kernelspec": {
   "display_name": "Python 3 (ipykernel)",
   "language": "python",
   "name": "python3"
  },
  "language_info": {
   "codemirror_mode": {
    "name": "ipython",
    "version": 3
   },
   "file_extension": ".py",
   "mimetype": "text/x-python",
   "name": "python",
   "nbconvert_exporter": "python",
   "pygments_lexer": "ipython3",
   "version": "3.8.2"
  }
 },
 "nbformat": 4,
 "nbformat_minor": 5
}
