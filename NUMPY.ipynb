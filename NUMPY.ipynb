{
 "cells": [
  {
   "cell_type": "code",
   "execution_count": 1,
   "id": "388397e9",
   "metadata": {},
   "outputs": [],
   "source": [
    "import numpy as np\n",
    "L = [1, 2, 3]\n",
    "A = np.array([1, 2, 3])\n",
    "\n",
    "# Numpy exists to do Math. \n"
   ]
  },
  {
   "cell_type": "code",
   "execution_count": 23,
   "id": "739a75b7",
   "metadata": {},
   "outputs": [
    {
     "name": "stdout",
     "output_type": "stream",
     "text": [
      "[[1.         1.41421356]\n",
      " [1.73205081 2.        ]]\n",
      "[[0.         0.69314718]\n",
      " [1.09861229 1.38629436]]\n",
      "[[ 2.71828183  7.3890561 ]\n",
      " [20.08553692 54.59815003]]\n"
     ]
    },
    {
     "data": {
      "text/plain": [
       "array([1, 3])"
      ]
     },
     "execution_count": 23,
     "metadata": {},
     "output_type": "execute_result"
    }
   ],
   "source": [
    "## Basics\n",
    "# Create a matrix or a 2 dimensional array\n",
    "A = np.array([[1,2],[3,4]])\n",
    "\n",
    "# This is normal vector addition. Vectors (arrays) of the same size must be added otherwise error ocurrs\n",
    "A = np.array([1,2, 3])\n",
    "A + np.array([4,5,6])\n",
    "\n",
    "# How to do vector multiplication\n",
    "A = np.array([[1,2],[3,4]])\n",
    "2 * A\n",
    "\n",
    "# Squaring a vector\n",
    "A = np.array([[1,2],[3,4]])\n",
    "A**2\n",
    "\n",
    "# How to do square root with numpy\n",
    "print(np.sqrt(A))\n",
    "\n",
    "#How to get logarithm of vector\n",
    "print(np.log(A))\n",
    "\n",
    "#How to calculate the exponential of an array. This is euler's number ~2.7\n",
    "print(np.exp(A))\n",
    "\n",
    "\n",
    "# How to get the dot product\n",
    "np.dot(a, b)\n",
    "\n",
    "# Another way way to get dot product\n",
    "a @ b\n",
    "\n",
    "#Working with numpy arrays\n",
    "# Select the 2nd item of the first row just like how python works.\n",
    "A = np.array([[1,2],[3,4]])\n",
    "A[0][1]\n",
    "\n",
    "# Select the 2nd item of the first row in the numpy way (python does not work like this)\n",
    "A = np.array([[1,2],[3,4]])\n",
    "A[0,1]\n",
    "\n",
    "# Select a column\n",
    "A = np.array([[1,2],[3,4]])\n",
    "A[:,0]\n",
    "\n",
    "# how to get the determinant of a matrix\n",
    "np.linalg.det(A)\n",
    "\n",
    "# To get inverse of a matrix\n",
    "np.linalg.inv(A)\n",
    "\n",
    "# How to get eigen values\n",
    "np.linalg.eig(A)"
   ]
  },
  {
   "cell_type": "code",
   "execution_count": 3,
   "id": "fb33d0bf",
   "metadata": {},
   "outputs": [
    {
     "data": {
      "text/plain": [
       "array([[6, 7],\n",
       "       [8, 9]])"
      ]
     },
     "execution_count": 3,
     "metadata": {},
     "output_type": "execute_result"
    }
   ],
   "source": [
    "\n",
    "# This is broadcasting however not a normal linear algebra operation\n",
    "A = np.array([[1,2],[3,4]])\n",
    "A + [5]"
   ]
  },
  {
   "cell_type": "code",
   "execution_count": 8,
   "id": "4751be85",
   "metadata": {},
   "outputs": [
    {
     "data": {
      "text/plain": [
       "11"
      ]
     },
     "execution_count": 8,
     "metadata": {},
     "output_type": "execute_result"
    }
   ],
   "source": [
    "# This is the manual way to calculate the dot product of 2 vectors\n",
    "# zip function returns an iterator for both collections. If the size of each differs the smaller ones size gets used for both.\n",
    "\n",
    "a = np.array([1,2])\n",
    "b = np.array([3,4])\n",
    "\n",
    "dot = 0\n",
    "\n",
    "for e, f in zip(a, b):\n",
    "    dot += e * f\n",
    "dot"
   ]
  },
  {
   "cell_type": "code",
   "execution_count": 11,
   "id": "6be4b7a4",
   "metadata": {},
   "outputs": [
    {
     "name": "stdout",
     "output_type": "stream",
     "text": [
      "magnitude:\n",
      "2.23606797749979\n",
      "norm:\n",
      "2.23606797749979\n"
     ]
    }
   ],
   "source": [
    "# How to calculate the magnitude or the scalar of a vector.\n",
    "amag = np.sqrt((a*a).sum())\n",
    "\n",
    "print(\"magnitude:\")\n",
    "print(amag)\n",
    "\n",
    "# How to calculate the norm (same thing as magnitude)\n",
    "norm = np.linalg.norm(a)\n",
    "\n",
    "print(\"norm:\")\n",
    "print(norm)\n"
   ]
  },
  {
   "cell_type": "code",
   "execution_count": 12,
   "id": "35dc02e0",
   "metadata": {},
   "outputs": [
    {
     "name": "stdout",
     "output_type": "stream",
     "text": [
      "cosangle:\n",
      "0.9838699100999074\n",
      "angle in radians:\n",
      "0.17985349979247847\n"
     ]
    }
   ],
   "source": [
    "# How to get the angle between 2 vectors\n",
    "cosangle = np.dot(a, b) / (np.linalg.norm(a) * np.linalg.norm(b))\n",
    "print(\"cosangle:\")\n",
    "print(cosangle)\n",
    "\n",
    "angle = np.arccos(cosangle)\n",
    "print(\"angle in radians:\")\n",
    "print(angle)"
   ]
  },
  {
   "cell_type": "code",
   "execution_count": 16,
   "id": "d2fdf433",
   "metadata": {},
   "outputs": [
    {
     "data": {
      "text/plain": [
       "array([[1, 3],\n",
       "       [2, 4]])"
      ]
     },
     "execution_count": 16,
     "metadata": {},
     "output_type": "execute_result"
    }
   ],
   "source": [
    "# Get the transpose of the matrix\n",
    "A = np.array([[1,2],[3,4]])\n",
    "A.T"
   ]
  },
  {
   "cell_type": "code",
   "execution_count": 19,
   "id": "0e2c9a3b",
   "metadata": {},
   "outputs": [
    {
     "data": {
      "text/plain": [
       "5"
      ]
     },
     "execution_count": 19,
     "metadata": {},
     "output_type": "execute_result"
    }
   ],
   "source": [
    "# How to get trace of matrix\n",
    "np.trace(A)"
   ]
  },
  {
   "cell_type": "code",
   "execution_count": 20,
   "id": "d6263e59",
   "metadata": {},
   "outputs": [
    {
     "data": {
      "text/plain": [
       "array([1, 4])"
      ]
     },
     "execution_count": 20,
     "metadata": {},
     "output_type": "execute_result"
    }
   ],
   "source": [
    "# How to get diaganol elements of matrix\n",
    "A = np.array([[1,2],[3,4]])\n",
    "np.diag(A)"
   ]
  },
  {
   "cell_type": "code",
   "execution_count": 21,
   "id": "5021ffdc",
   "metadata": {},
   "outputs": [
    {
     "data": {
      "text/plain": [
       "(array([-0.37228132,  5.37228132]),\n",
       " array([[-0.82456484, -0.41597356],\n",
       "        [ 0.56576746, -0.90937671]]))"
      ]
     },
     "execution_count": 21,
     "metadata": {},
     "output_type": "execute_result"
    }
   ],
   "source": [
    "# How to get eigen values\n",
    "np.linalg.eig(A)"
   ]
  },
  {
   "cell_type": "code",
   "execution_count": 22,
   "id": "2fb64d91",
   "metadata": {},
   "outputs": [],
   "source": [
    "# How to see if"
   ]
  }
 ],
 "metadata": {
  "kernelspec": {
   "display_name": "Python 3 (ipykernel)",
   "language": "python",
   "name": "python3"
  },
  "language_info": {
   "codemirror_mode": {
    "name": "ipython",
    "version": 3
   },
   "file_extension": ".py",
   "mimetype": "text/x-python",
   "name": "python",
   "nbconvert_exporter": "python",
   "pygments_lexer": "ipython3",
   "version": "3.8.2"
  }
 },
 "nbformat": 4,
 "nbformat_minor": 5
}
