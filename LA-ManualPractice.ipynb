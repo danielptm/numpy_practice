{
 "cells": [
  {
   "cell_type": "code",
   "execution_count": 1,
   "id": "578ac30e",
   "metadata": {},
   "outputs": [],
   "source": [
    "import numpy as np"
   ]
  },
  {
   "cell_type": "code",
   "execution_count": 2,
   "id": "18d834de",
   "metadata": {},
   "outputs": [],
   "source": [
    "# setup arrays\n",
    "a = np.array([[1, 0],[2, -4]])\n",
    "b = np.array([[-1, 6],[0, 2]])"
   ]
  },
  {
   "cell_type": "code",
   "execution_count": 3,
   "id": "f11f663e",
   "metadata": {},
   "outputs": [
    {
     "name": "stdout",
     "output_type": "stream",
     "text": [
      "manual addition result):\n",
      "[[ 0  6]\n",
      " [ 2 -2]]\n",
      "numpy addition result: \n",
      "[[ 0  6]\n",
      " [ 2 -2]]\n",
      "manual subtraction result):\n",
      "[[ 2 -6]\n",
      " [ 2 -6]]\n",
      "numpy subtraction result: \n",
      "[[ 2 -6]\n",
      " [ 2 -6]]\n"
     ]
    }
   ],
   "source": [
    "# Matrix addition\n",
    "# To do this, just add the corresponding values position for position to create a new matrix.\n",
    "# Matrices must be same size/dimension\n",
    "\n",
    "new_matrix = np.array([np.zeros(len(a), dtype=int), np.zeros(len(a), dtype=int)])\n",
    "for i in range(len(a)):\n",
    "    for j in range(len(a[i])):\n",
    "        x = a[i,j] + b[i,j]\n",
    "        new_matrix[i,j] = x\n",
    "\n",
    "print(\"manual addition result):\")\n",
    "print(new_matrix)\n",
    "\n",
    "\n",
    "# verify above is correct\n",
    "print(\"numpy addition result: \")\n",
    "print(a + b)\n",
    "\n",
    "\n",
    "# Matrix subtraction\n",
    "\n",
    "new_matrix = np.array([np.zeros(len(a), dtype=int), np.zeros(len(a), dtype=int)])\n",
    "for i in range(len(a)):\n",
    "    for j in range(len(a[i])):\n",
    "        x = a[i,j] - b[i,j]\n",
    "        new_matrix[i,j] = x\n",
    "\n",
    "print(\"manual subtraction result):\")\n",
    "print(new_matrix)\n",
    "\n",
    "\n",
    "# verify above is correct\n",
    "print(\"numpy subtraction result: \")\n",
    "print(a - b)\n",
    "\n",
    "\n"
   ]
  },
  {
   "cell_type": "code",
   "execution_count": 4,
   "id": "26f9016e",
   "metadata": {},
   "outputs": [
    {
     "name": "stdout",
     "output_type": "stream",
     "text": [
      "manual multiplication result\n",
      "[[2 4 6]\n",
      " [0 2 2]]\n",
      "numpy multiplication result\n",
      "[[2 4 6]\n",
      " [0 2 2]]\n"
     ]
    }
   ],
   "source": [
    "# Scalar multiplication or multiplying a matrix by a scalar. \n",
    "# To do this just multiply each item  in the matrixby the scalar. \n",
    "# For this example 2 is the scalar\n",
    "\n",
    "c = np.array([[1, 2, 3],[0, 1, 1]])\n",
    "d = np.array([[2, 4, 6], [0, 1, 1]])\n",
    "\n",
    "\n",
    "# manual multiplication result\n",
    "new_matrix = np.array([np.zeros(len(c[0]), dtype=int), np.zeros(len(c[1]), dtype=int)])\n",
    "for i in range(len(c)):\n",
    "    for j in range(len(c[i])):\n",
    "        x = 2 * c[i, j]\n",
    "        new_matrix[i,j] = x\n",
    "\n",
    "\n",
    "# manual multiplication result\n",
    "print(\"manual multiplication result\")\n",
    "print(new_matrix)\n",
    "        \n",
    "# numpy multiplication result\n",
    "print(\"numpy multiplication result\")\n",
    "print(c * 2)"
   ]
  },
  {
   "cell_type": "code",
   "execution_count": 24,
   "id": "0e9b56bb",
   "metadata": {},
   "outputs": [
    {
     "name": "stdout",
     "output_type": "stream",
     "text": [
      "[[0 3]\n",
      " [0 0]]\n",
      "[[ 0 -1]\n",
      " [ 0 -1]]\n"
     ]
    }
   ],
   "source": [
    "# Multiplying 2 matrices by eachother\n",
    "# Multiplying matrices uses the dot product.\n",
    "# Unlike addition/subtraction the matrices dont have to be the same dimensions.\n",
    "# However the number of columns of the first matrix must equal the number of rows of the second matrix\n",
    "# Each items of the row is multiplied by its corresponding column value then added together.\n",
    "\n",
    "e = np.array([\n",
    "    [2, 3],\n",
    "    [-1, 0]])\n",
    "\n",
    "f = np.array([\n",
    "    [0, 1],\n",
    "    [0, -1]])\n",
    "\n",
    "\n",
    "# Come back to this\n",
    "# https://www.udemy.com/course/linear-algebra-course/learn/lecture/15117830#overview\n",
    "\n",
    "            \n",
    "\n",
    "\n",
    "# numpy multiplication result\n",
    "# Notice that the .dot function has to be used to get the right answer.\n",
    "# The false answer is using elemental multiplication\n",
    "# print(\"false answer for matrix multipliation of e * f:\")\n",
    "print(e * f)\n",
    "\n",
    "#The correct answer is using dot product\n",
    "# print(\"correct answer for matrix multiplication of e * f:\")\n",
    "print(e.dot(f))\n"
   ]
  },
  {
   "cell_type": "code",
   "execution_count": null,
   "id": "082a71f2",
   "metadata": {},
   "outputs": [],
   "source": []
  },
  {
   "cell_type": "code",
   "execution_count": null,
   "id": "f2991fc2",
   "metadata": {},
   "outputs": [],
   "source": []
  }
 ],
 "metadata": {
  "kernelspec": {
   "display_name": "Python 3 (ipykernel)",
   "language": "python",
   "name": "python3"
  },
  "language_info": {
   "codemirror_mode": {
    "name": "ipython",
    "version": 3
   },
   "file_extension": ".py",
   "mimetype": "text/x-python",
   "name": "python",
   "nbconvert_exporter": "python",
   "pygments_lexer": "ipython3",
   "version": "3.8.2"
  }
 },
 "nbformat": 4,
 "nbformat_minor": 5
}
