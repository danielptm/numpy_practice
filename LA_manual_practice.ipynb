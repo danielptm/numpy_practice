{
 "cells": [
  {
   "cell_type": "code",
   "execution_count": 1,
   "id": "d58417f5",
   "metadata": {},
   "outputs": [],
   "source": [
    "import numpy as np"
   ]
  },
  {
   "cell_type": "code",
   "execution_count": 2,
   "id": "591abe96",
   "metadata": {},
   "outputs": [],
   "source": [
    "# setup arrays\n",
    "a = np.array([[1, 0],[2, -4]])\n",
    "b = np.array([[-1, 6],[0, 2]])"
   ]
  },
  {
   "cell_type": "code",
   "execution_count": 14,
   "id": "5fd03cda",
   "metadata": {},
   "outputs": [
    {
     "name": "stdout",
     "output_type": "stream",
     "text": [
      "manual result):\n",
      "[[ 0  6]\n",
      " [ 2 -2]]\n",
      "numpy result: \n",
      "[[ 0  6]\n",
      " [ 2 -2]]\n"
     ]
    }
   ],
   "source": [
    "# Matrix addition\n",
    "# To do this, just add the corresponding values position for position to create a new matrix.\n",
    "\n",
    "new_matrix = np.array([np.zeros(len(a), dtype=int), np.zeros(len(a), dtype=int)])\n",
    "for i in range(len(a)):\n",
    "    for j in range(len(a[i])):\n",
    "        x = a[i,j] + b[i,j]\n",
    "        new_matrix[i,j] = x\n",
    "\n",
    "print(\"manual result):\")\n",
    "print(new_matrix)\n",
    "\n",
    "\n",
    "# verify above is correct\n",
    "print(\"numpy result: \")\n",
    "print(a + b)\n",
    "\n"
   ]
  },
  {
   "cell_type": "code",
   "execution_count": 17,
   "id": "68adf0a3",
   "metadata": {},
   "outputs": [
    {
     "name": "stdout",
     "output_type": "stream",
     "text": [
      "manual result):\n",
      "[[ 2 -6]\n",
      " [ 2 -6]]\n",
      "numpy result: \n",
      "[[ 2 -6]\n",
      " [ 2 -6]]\n"
     ]
    }
   ],
   "source": [
    "# Matrix subtraction\n",
    "\n",
    "new_matrix = np.array([np.zeros(len(a), dtype=int), np.zeros(len(a), dtype=int)])\n",
    "for i in range(len(a)):\n",
    "    for j in range(len(a[i])):\n",
    "        x = a[i,j] - b[i,j]\n",
    "        new_matrix[i,j] = x\n",
    "\n",
    "print(\"manual result):\")\n",
    "print(new_matrix)\n",
    "\n",
    "\n",
    "# verify above is correct\n",
    "print(\"numpy result: \")\n",
    "print(a - b)\n"
   ]
  },
  {
   "cell_type": "code",
   "execution_count": null,
   "id": "64433920",
   "metadata": {},
   "outputs": [],
   "source": []
  }
 ],
 "metadata": {
  "kernelspec": {
   "display_name": "Python 3 (ipykernel)",
   "language": "python",
   "name": "python3"
  },
  "language_info": {
   "codemirror_mode": {
    "name": "ipython",
    "version": 3
   },
   "file_extension": ".py",
   "mimetype": "text/x-python",
   "name": "python",
   "nbconvert_exporter": "python",
   "pygments_lexer": "ipython3",
   "version": "3.8.2"
  }
 },
 "nbformat": 4,
 "nbformat_minor": 5
}
