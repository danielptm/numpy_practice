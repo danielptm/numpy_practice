{
 "cells": [
  {
   "cell_type": "code",
   "execution_count": 1,
   "id": "170f26b6",
   "metadata": {},
   "outputs": [],
   "source": [
    "import numpy as np"
   ]
  },
  {
   "cell_type": "code",
   "execution_count": 2,
   "id": "2c1721b2",
   "metadata": {},
   "outputs": [
    {
     "name": "stdout",
     "output_type": "stream",
     "text": [
      "[4 1]\n",
      "[-2 10]\n",
      "[-4 -4]\n",
      "[ 6 -6]\n"
     ]
    }
   ],
   "source": [
    "#Question:\n",
    "# https://www.udemy.com/course/linear-algebra-course/learn/quiz/4671160#content\n",
    "# What are teh vertices of the transformation of the polygon given by the vectors\n",
    "# a, b, c, d and transofmration matrix t\n",
    "a = np.array([-2, 1])\n",
    "b = np.array([1, 3])\n",
    "c = np.array([2, -2])\n",
    "d = np.array([-3, -1])\n",
    "\n",
    "t = np.array([[-2, 0], [1, 3]])\n",
    "\n",
    "a_r = t.dot(a)\n",
    "b_r = t.dot(b)\n",
    "c_r = t.dot(c)\n",
    "d_r = t.dot(d)\n",
    "\n",
    "# Correct answer\n",
    "print(a_r)\n",
    "print(b_r)\n",
    "print(c_r)\n",
    "print(d_r)\n",
    "\n",
    "\n"
   ]
  },
  {
   "cell_type": "code",
   "execution_count": 4,
   "id": "de9f12eb",
   "metadata": {},
   "outputs": [
    {
     "name": "stdout",
     "output_type": "stream",
     "text": [
      "[ 0 -6]\n",
      "[-2  4]\n",
      "[2 0]\n"
     ]
    }
   ],
   "source": [
    "#Question:\n",
    "# https://www.udemy.com/course/linear-algebra-course/learn/quiz/4671160#content\n",
    "# What are the vertices of the transformation of the triangle with vertices a, b, c and transformation matrix t\n",
    "\n",
    "a = np.array([-3, 0])\n",
    "b = np.array([1, 2])\n",
    "c = np.array([1, -2])\n",
    "t = np.array([[0, -1], [2, 1]])\n",
    "\n",
    "a_r = t.dot(a) \n",
    "b_r = t.dot(b)\n",
    "c_r = t.dot(c)\n",
    "\n",
    "#Correct result\n",
    "print(a_r)\n",
    "print(b_r)\n",
    "print(c_r)\n",
    "\n"
   ]
  },
  {
   "cell_type": "code",
   "execution_count": null,
   "id": "fc74c762",
   "metadata": {},
   "outputs": [],
   "source": []
  }
 ],
 "metadata": {
  "kernelspec": {
   "display_name": "Python 3 (ipykernel)",
   "language": "python",
   "name": "python3"
  },
  "language_info": {
   "codemirror_mode": {
    "name": "ipython",
    "version": 3
   },
   "file_extension": ".py",
   "mimetype": "text/x-python",
   "name": "python",
   "nbconvert_exporter": "python",
   "pygments_lexer": "ipython3",
   "version": "3.8.2"
  }
 },
 "nbformat": 4,
 "nbformat_minor": 5
}
